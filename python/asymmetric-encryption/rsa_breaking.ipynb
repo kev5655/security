{
 "cells": [
  {
   "cell_type": "code",
   "execution_count": 22,
   "metadata": {},
   "outputs": [],
   "source": [
    "def find_inverse(e: int, phi: int) -> int:\n",
    "    def extended_gcd(a, b):\n",
    "        if b == 0:\n",
    "            return a, 1, 0\n",
    "        gcd, x1, y1 = extended_gcd(b, a % b)\n",
    "        x = y1\n",
    "        y = x1 - (a // b) * y1\n",
    "        return gcd, x, y\n",
    "\n",
    "    gcd, x, _ = extended_gcd(e, phi)\n",
    "    if gcd != 1:\n",
    "        raise ValueError(\"No modular inverse exists\")\n",
    "    return x % phi"
   ]
  },
  {
   "cell_type": "code",
   "execution_count": 23,
   "metadata": {},
   "outputs": [
    {
     "name": "stdout",
     "output_type": "stream",
     "text": [
      "factorizes: (1103222539, 17870599)\n",
      "Secrete key is (19715247602230861, 2816463783019675)\n"
     ]
    }
   ],
   "source": [
    "import math\n",
    "\n",
    "# pk = (323, 5)\n",
    "pk = (19715247602230861, 7)\n",
    "\n",
    "# find p and q: n = pq\n",
    "def factorizes(n: int) -> tuple[int, int]:\n",
    "    for i in range(2, int(math.sqrt(n)) + 1): # up to n is also possible, but unessesary\n",
    "        if n % i == 0:    \n",
    "            return (int(n/i), i)\n",
    "    raise Exception(\"No factor found\")\n",
    "\n",
    "# find e · d mod phi = 1\n",
    "# is not efficient but simple, see above efficient solution\n",
    "# def find_inverse(e: int, phi: int) -> int:\n",
    "#     d = 1\n",
    "#     while True:\n",
    "#         if e * d % phi == 1:\n",
    "#             return d\n",
    "#         d += 1\n",
    "\n",
    "def brute_force_sk(pk: tuple[int, int]):\n",
    "    n = pk[0]\n",
    "    p, q = factorizes(n)\n",
    "    print(f\"factorizes: ({p}, {q})\")\n",
    "    phi = (p - 1) * (q - 1)\n",
    "    e = pk[1]\n",
    "    d = find_inverse(e, phi)\n",
    "    \n",
    "    print(f\"Secrete key is ({n}, {d})\")\n",
    "    \n",
    "\n",
    "\n",
    "if __name__ == \"__main__\":\n",
    "    brute_force_sk(pk)"
   ]
  }
 ],
 "metadata": {
  "kernelspec": {
   "display_name": "base",
   "language": "python",
   "name": "python3"
  },
  "language_info": {
   "codemirror_mode": {
    "name": "ipython",
    "version": 3
   },
   "file_extension": ".py",
   "mimetype": "text/x-python",
   "name": "python",
   "nbconvert_exporter": "python",
   "pygments_lexer": "ipython3",
   "version": "3.12.4"
  }
 },
 "nbformat": 4,
 "nbformat_minor": 2
}

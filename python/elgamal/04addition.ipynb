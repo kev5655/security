{
 "cells": [
  {
   "cell_type": "code",
   "execution_count": 92,
   "metadata": {},
   "outputs": [],
   "source": [
    "import sys\n",
    "from sympy import prime, sec\n",
    "from sympy import primitive_root as pr\n",
    "import secrets\n",
    "from sympy import discrete_log\n",
    "\n",
    "\n",
    "\n",
    "def primitive_root(p: int) -> int:\n",
    "    g = pr(p)\n",
    "    if g == None:\n",
    "        sys.exit(f\"no primitive_root found for prim {p}\")\n",
    "    return g"
   ]
  },
  {
   "cell_type": "code",
   "execution_count": 93,
   "metadata": {},
   "outputs": [],
   "source": [
    "def crypt_param(p):\n",
    "    g = primitive_root(p)\n",
    "    x = secrets.randbelow(p - 1) + 1 # Private Key\n",
    "    y = secrets.randbelow(p - 1) + 1\n",
    "    return (g, x, y)\n"
   ]
  },
  {
   "cell_type": "code",
   "execution_count": 94,
   "metadata": {},
   "outputs": [],
   "source": [
    "def encrypt(m: int, g: int, p: int, y: int, x: int) -> tuple[int, int, int, int, int]:\n",
    "    h = pow(g, x, p)\n",
    "    c1 = pow(g, y, p)\n",
    "    c2 = (pow(h, y, p) * pow(g, m, p)) % p # the message must be in the exponent\n",
    "    return (c1, c2, p, g, x)"
   ]
  },
  {
   "cell_type": "code",
   "execution_count": 95,
   "metadata": {},
   "outputs": [],
   "source": [
    "def decrypt(c1, c2, p, g, x) -> int:\n",
    "    # s_inverse = pow(c1, p - 1 - x, g)\n",
    "    # return (c2 * s_inverse) % p\n",
    "        # Compute s and its modular inverse\n",
    "    s_inverse = pow(c1, -x, p)  # Modular inverse of s\n",
    "    decrypted_value = (c2 * s_inverse) % p\n",
    "\n",
    "    # Extract the exponent using discrete logarithm\n",
    "    m = discrete_log(p, decrypted_value, g)\n",
    "    return m"
   ]
  },
  {
   "cell_type": "code",
   "execution_count": 96,
   "metadata": {},
   "outputs": [],
   "source": [
    "p: int = 2760727302517\n",
    "g1, x1, y1 = crypt_param(p)\n",
    "# g2, p2, y2, x2 = crypt_param(p)\n",
    "\n",
    "# m = 0x68616c6c6f2077656c74\n",
    "m1 = 345\n",
    "m2 = 10\n",
    "\n",
    "cipher1 = encrypt(m1, g1, p, y1, x1)\n",
    "cipher2 = encrypt(m2, g1, p, y1, x1) # encrypt(m2, g2, p2, y2, x2)"
   ]
  },
  {
   "cell_type": "code",
   "execution_count": 97,
   "metadata": {},
   "outputs": [
    {
     "name": "stdout",
     "output_type": "stream",
     "text": [
      "Original messages: m1 = 345, m2 = 10\n",
      "Ciphertext 1: (55, 55)\n",
      "Ciphertext 2: (55, 400)\n",
      "Combined ciphertext: (c1 = 320, c2 = 360)\n",
      "Decrypted sum: 355\n"
     ]
    }
   ],
   "source": [
    "c1_combined = (cipher1[0] * cipher2[0]) % p\n",
    "c2_combined = (cipher1[1] * cipher2[1]) % p\n",
    "\n",
    "decrypted_sum = decrypt(c1_combined, c2_combined, p, g1, x1)\n",
    "\n",
    "print(f\"Original messages: m1 = {m1}, m2 = {m2}\")\n",
    "print(f\"Ciphertext 1: {cipher1}\")\n",
    "print(f\"Ciphertext 2: {cipher2}\")\n",
    "print(f\"Combined ciphertext: (c1 = {c1_combined}, c2 = {c2_combined})\")\n",
    "print(f\"Decrypted sum: {decrypted_sum}\")\n",
    "\n",
    "assert decrypted_sum == m1 + m2, \"error\""
   ]
  }
 ],
 "metadata": {
  "kernelspec": {
   "display_name": ".venv",
   "language": "python",
   "name": "python3"
  },
  "language_info": {
   "codemirror_mode": {
    "name": "ipython",
    "version": 3
   },
   "file_extension": ".py",
   "mimetype": "text/x-python",
   "name": "python",
   "nbconvert_exporter": "python",
   "pygments_lexer": "ipython3",
   "version": "3.12.3"
  }
 },
 "nbformat": 4,
 "nbformat_minor": 2
}

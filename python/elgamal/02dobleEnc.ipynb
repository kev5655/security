{
 "cells": [
  {
   "cell_type": "code",
   "execution_count": 9,
   "metadata": {},
   "outputs": [],
   "source": [
    "import sys\n",
    "from sympy import primitive_root as pr\n",
    "\n",
    "def primitive_root(p: int) -> int:\n",
    "    g = pr(p)\n",
    "    if g == None:\n",
    "        sys.exit(f\"no primitive_root found for prim {p}\")\n",
    "    return g"
   ]
  },
  {
   "cell_type": "code",
   "execution_count": 10,
   "metadata": {},
   "outputs": [],
   "source": [
    "import secrets\n",
    "from sympy import prime\n",
    "\n",
    "p: int = prime(1000) # type: ignore\n",
    "g = primitive_root(p)               # Generator\n",
    "y1 = secrets.randbelow(p - 1) + 1    # Ephemeral key\n",
    "x1 = secrets.randbelow(p - 1) + 1    # Private key\n",
    "m = 117\n",
    "\n",
    "h = pow(g,x1,p) # Public Key\n",
    "\n",
    "c1_1 = pow(g, y1, p)\n",
    "c1_2 = pow(h, y1, p) * m % p\n"
   ]
  },
  {
   "cell_type": "code",
   "execution_count": 11,
   "metadata": {},
   "outputs": [
    {
     "name": "stdout",
     "output_type": "stream",
     "text": [
      "117\n"
     ]
    }
   ],
   "source": [
    "## Enc\n",
    "\n",
    "s_1 = pow(c1_1, x1, p) # h^y\n",
    "# print(f\"s_1: {s_1} c1_2: {pow(h, y1, p)}\") # Are the same\n",
    "\n",
    "s_inverse1 = pow(c1_1, p-1-x1, p)\n",
    "# print((s_1 * s_inverse1) % p)\n",
    "\n",
    "# c1_2 = (m * s)\n",
    "m_enc = (c1_2 * s_inverse1) % p\n",
    "print(m_enc)\n",
    "\n",
    "assert m_enc == m, \"m is not correctly decrypted\""
   ]
  },
  {
   "cell_type": "code",
   "execution_count": 12,
   "metadata": {},
   "outputs": [],
   "source": [
    "#p: int = prime(1000) # type: ignore # A large prime\n",
    "#g = primitive_root(p)               # Generator\n",
    "y2 = secrets.randbelow(p - 1) + 1    # Ephemeral key\n",
    "x2 = secrets.randbelow(p - 1) + 1    # Private key\n",
    "# m = 117\n",
    "\n",
    "h2 = pow(g, x2 ,p) # Public Key\n",
    "\n",
    "c2_1 = pow(g, y2, p)\n",
    "c2_2 = pow(h2, y2, p) * c1_2 % p"
   ]
  },
  {
   "cell_type": "code",
   "execution_count": 13,
   "metadata": {},
   "outputs": [
    {
     "name": "stdout",
     "output_type": "stream",
     "text": [
      "117\n"
     ]
    }
   ],
   "source": [
    "# s = pow(c2_1, x2, p)\n",
    "s_inverse2 = pow(c2_1, -x2, p)\n",
    "# print((s * s_inverse2) % p)\n",
    "m2 = (c2_2 * s_inverse2) % p\n",
    "\n",
    "s_inverse1 = pow(c1_1, -x1, p)\n",
    "m_d_enc = (m2 * s_inverse1) % p\n",
    "\n",
    "assert m == m_d_enc, \"m is not correctly decrypted\"\n",
    "print(m)"
   ]
  },
  {
   "cell_type": "code",
   "execution_count": 15,
   "metadata": {},
   "outputs": [
    {
     "name": "stdout",
     "output_type": "stream",
     "text": [
      "117\n",
      "117\n"
     ]
    }
   ],
   "source": [
    "s_inverse1 = pow(c1_1, -x1, p)\n",
    "m2 = (c2_2 * s_inverse1) % p\n",
    "\n",
    "# s = pow(c2_1, x2, p)\n",
    "s_inverse2 = pow(c2_1, -x2, p)\n",
    "# print((s * s_inverse2) % p)\n",
    "m_d_enc = (m2 * s_inverse2) % p\n",
    "\n",
    "assert m == m_d_enc, \"m is not correctly decrypted\"\n",
    "print(m)\n",
    "\n",
    "inverse_two = (s_inverse1 * s_inverse2) % p\n",
    "m_d_enc = (c2_2 * inverse_two) % p\n",
    "assert m == m_d_enc, \"m is not correctly decrypted\"\n",
    "print(m)"
   ]
  }
 ],
 "metadata": {
  "kernelspec": {
   "display_name": ".venv",
   "language": "python",
   "name": "python3"
  },
  "language_info": {
   "codemirror_mode": {
    "name": "ipython",
    "version": 3
   },
   "file_extension": ".py",
   "mimetype": "text/x-python",
   "name": "python",
   "nbconvert_exporter": "python",
   "pygments_lexer": "ipython3",
   "version": "3.12.3"
  }
 },
 "nbformat": 4,
 "nbformat_minor": 2
}

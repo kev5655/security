{
 "cells": [
  {
   "cell_type": "code",
   "execution_count": 2,
   "metadata": {},
   "outputs": [],
   "source": [
    "import sys\n",
    "from sympy import primitive_root as pr\n",
    "\n",
    "def primitive_root(p: int) -> int:\n",
    "    g = pr(p)\n",
    "    if g == None:\n",
    "        sys.exit(f\"no primitive_root found for prim {p}\")\n",
    "    return g"
   ]
  },
  {
   "cell_type": "code",
   "execution_count": 36,
   "metadata": {},
   "outputs": [
    {
     "name": "stdout",
     "output_type": "stream",
     "text": [
      "2760727302517\n"
     ]
    }
   ],
   "source": [
    "import secrets\n",
    "from sympy import prime, sec\n",
    "\n",
    "p: int = 2760727302517 # prime(100000000000) # type: ignore\n",
    "print(p)\n",
    "g = primitive_root(p)\n",
    "x = secrets.randbelow(p - 1) + 1 # Private Key\n",
    "y = secrets.randbelow(p - 1) + 1\n",
    "\n",
    "# m = 0x68616c6c6f2077656c74\n",
    "m = 345\n",
    "\n",
    "h = pow(g, x, p) # Public Key\n",
    "\n",
    "c1 = pow(g, y, p)\n",
    "c2 = pow(h, y, p) * m % p"
   ]
  },
  {
   "cell_type": "code",
   "execution_count": 38,
   "metadata": {},
   "outputs": [
    {
     "name": "stdout",
     "output_type": "stream",
     "text": [
      "690\n",
      "345\n"
     ]
    }
   ],
   "source": [
    "s_inverse = pow(c1, -x, p)\n",
    "\n",
    "c2_mani = 2 * c2\n",
    "\n",
    "m_dec = (c2_mani * s_inverse) % p\n",
    "print(m_dec)\n",
    "print(int(m_dec / 2))\n",
    "# print(hex(m))"
   ]
  },
  {
   "cell_type": "code",
   "execution_count": 37,
   "metadata": {},
   "outputs": [
    {
     "name": "stdout",
     "output_type": "stream",
     "text": [
      "459635446611\n",
      "459635446511\n"
     ]
    }
   ],
   "source": [
    "s_inverse = pow(c1, -x, p)\n",
    "\n",
    "c2_mani = 100 + c2\n",
    "\n",
    "m_dec = (c2_mani * s_inverse) % p\n",
    "print(m_dec)\n",
    "print(m_dec - 100)\n",
    "# print(hex(m))"
   ]
  }
 ],
 "metadata": {
  "kernelspec": {
   "display_name": ".venv",
   "language": "python",
   "name": "python3"
  },
  "language_info": {
   "codemirror_mode": {
    "name": "ipython",
    "version": 3
   },
   "file_extension": ".py",
   "mimetype": "text/x-python",
   "name": "python",
   "nbconvert_exporter": "python",
   "pygments_lexer": "ipython3",
   "version": "3.12.3"
  }
 },
 "nbformat": 4,
 "nbformat_minor": 2
}

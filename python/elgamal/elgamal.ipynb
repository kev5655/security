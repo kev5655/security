{
 "cells": [
  {
   "cell_type": "code",
   "execution_count": 5,
   "metadata": {},
   "outputs": [],
   "source": [
    "import sys\n",
    "from sympy import primitive_root as pr\n",
    "\n",
    "def primitive_root(p: int) -> int:\n",
    "    g = pr(p)\n",
    "    if g == None:\n",
    "        sys.exit(f\"no primitive_root found for prim {p}\")\n",
    "    return g"
   ]
  },
  {
   "cell_type": "markdown",
   "metadata": {},
   "source": [
    "### ElGamal Encryption and Decryption\n",
    "\n",
    "ElGamal is a public-key cryptosystem based on modular arithmetic and the **Discrete Logarithm Problem (DLP)**. It enables secure encryption of messages.\n",
    "\n",
    "\n",
    "#### **1. Key Parameters**\n",
    "- **Prime (`p`)**: A large prime defining the group \\( $\\mathbb{Z}_p^*$ \\).\n",
    "- **Generator (`g`)**: A primitive root modulo \\( $p$ \\).\n",
    "- **Private Key (`x`)**: A random secret integer \\( $1 \\leq x \\leq p-2$ \\).\n",
    "- **Public Key (`h`)**: Computed as \\( $h = g^x \\mod p$ \\), shared publicly.\n",
    "\n",
    "\n",
    "#### **2. Encryption Process**\n",
    "1. Choose a random ephemeral key \\( $y$ \\), where \\( $1 \\leq y \\leq p-2$ \\).\n",
    "2. Compute the ciphertext as two parts:\n",
    "   - \\( $c_1 = g^y \\mod p$ \\)\n",
    "   - \\( $c_2 = (h^y \\cdot m) \\mod p$ \\)\n",
    "3. Send the ciphertext \\( $(c_1, c_2)$ \\).\n",
    "\n",
    "\n",
    "#### **3. Decryption Process**\n",
    "1. Using the private key \\( $x$ \\), compute \\( $c_1^x \\mod p$ \\).\n",
    "2. Find the modular inverse \\( $(c_1^x)^{-1}$ \\).\n",
    "3. Recover the plaintext message \\( $m$ \\) using:\n",
    "   \\[\n",
    "   m = (c_2 \\cdot (c_1^x)^{-1}) \\mod p\n",
    "   \\]\n",
    "\n",
    "\n",
    "#### **4. Key Points**\n",
    "- \\( $m$ \\) (the message) must be in \\( $[1, p-1]$ \\).\n",
    "- A fresh \\( $y$ \\) ensures semantic security, meaning the same \\( $m$ \\) encrypted twice produces different results.\n",
    "- Security relies on the infeasibility of solving the Discrete Logarithm Problem (DLP).\n",
    "\n",
    "\n",
    "#### **5. Use Cases**\n",
    "ElGamal is used in:\n",
    "- Secure communication protocols.\n",
    "- Cryptographic signing systems like PGP."
   ]
  },
  {
   "cell_type": "code",
   "execution_count": 12,
   "metadata": {},
   "outputs": [
    {
     "name": "stdout",
     "output_type": "stream",
     "text": [
      "Encrypted Message: (c1=7399, c2=4130)\n"
     ]
    }
   ],
   "source": [
    "from sympy import prime\n",
    "import secrets\n",
    "\n",
    "p: int = prime(1000) # type: ignore # A large prime\n",
    "g = primitive_root(p)               # Generator\n",
    "y = secrets.randbelow(p - 1) + 1    # Ephemeral key\n",
    "x = secrets.randbelow(p - 1) + 1    # Private key\n",
    "m = 34\n",
    "\n",
    "assert 1 <= m < p, \"Message must be in the range [1, p-1]\"\n",
    "\n",
    "\n",
    "h = pow(g, x, p) # Public Key\n",
    "\n",
    "c1 = pow(g, y, p)\n",
    "c2 = pow(h, y, p) * m % p\n",
    "\n",
    "print(f\"Encrypted Message: (c1={c1}, c2={c2})\")"
   ]
  },
  {
   "cell_type": "code",
   "execution_count": 13,
   "metadata": {},
   "outputs": [
    {
     "name": "stdout",
     "output_type": "stream",
     "text": [
      "Decrypted Message: 34\n"
     ]
    }
   ],
   "source": [
    "# Decryption\n",
    "c1_inverse = pow(c1, p-1-x, p)  # Modular inverse of c1^x\n",
    "decrypted_message = c2 * c1_inverse % p\n",
    "print(f\"Decrypted Message: {decrypted_message}\")"
   ]
  }
 ],
 "metadata": {
  "kernelspec": {
   "display_name": "base",
   "language": "python",
   "name": "python3"
  },
  "language_info": {
   "codemirror_mode": {
    "name": "ipython",
    "version": 3
   },
   "file_extension": ".py",
   "mimetype": "text/x-python",
   "name": "python",
   "nbconvert_exporter": "python",
   "pygments_lexer": "ipython3",
   "version": "3.12.4"
  }
 },
 "nbformat": 4,
 "nbformat_minor": 2
}

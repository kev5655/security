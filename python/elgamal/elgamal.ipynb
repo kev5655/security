{
 "cells": [
  {
   "cell_type": "code",
   "execution_count": 5,
   "metadata": {},
   "outputs": [],
   "source": [
    "import sys\n",
    "from sympy import primitive_root as pr\n",
    "\n",
    "def primitive_root(p: int) -> int:\n",
    "    g = pr(p)\n",
    "    if g == None:\n",
    "        sys.exit(f\"no primitive_root found for prim {p}\")\n",
    "    return g"
   ]
  },
  {
   "cell_type": "markdown",
   "metadata": {},
   "source": []
  },
  {
   "cell_type": "code",
   "execution_count": 6,
   "metadata": {},
   "outputs": [
    {
     "name": "stdout",
     "output_type": "stream",
     "text": [
      "Encrypted Message: (c1=444, c2=7697)\n"
     ]
    }
   ],
   "source": [
    "from sympy import prime\n",
    "import secrets\n",
    "\n",
    "p: int = prime(1000) # type: ignore # A large prime\n",
    "g = primitive_root(p)               # Generator\n",
    "y = secrets.randbelow(p - 1) + 1    # Ephemeral key\n",
    "x = secrets.randbelow(p - 1) + 1    # Private key\n",
    "m = 34\n",
    "\n",
    "assert 1 <= m < p, \"Message must be in the range [1, p-1]\"\n",
    "\n",
    "\n",
    "h = pow(g, x, p) # Public Key\n",
    "\n",
    "c1 = pow(g, y, p)\n",
    "c2 = pow(h, y, p) * m % p\n",
    "\n",
    "print(f\"Encrypted Message: (c1={c1}, c2={c2})\")"
   ]
  },
  {
   "cell_type": "code",
   "execution_count": 7,
   "metadata": {},
   "outputs": [
    {
     "name": "stdout",
     "output_type": "stream",
     "text": [
      "Decrypted Message: 34\n"
     ]
    }
   ],
   "source": [
    "# Decryption\n",
    "c1_inverse = pow(c1, p-1-x, p)  # Modular inverse of c1^x\n",
    "decrypted_message = c2 * c1_inverse % p\n",
    "print(f\"Decrypted Message: {decrypted_message}\")"
   ]
  }
 ],
 "metadata": {
  "kernelspec": {
   "display_name": "base",
   "language": "python",
   "name": "python3"
  },
  "language_info": {
   "codemirror_mode": {
    "name": "ipython",
    "version": 3
   },
   "file_extension": ".py",
   "mimetype": "text/x-python",
   "name": "python",
   "nbconvert_exporter": "python",
   "pygments_lexer": "ipython3",
   "version": "3.12.4"
  }
 },
 "nbformat": 4,
 "nbformat_minor": 2
}
